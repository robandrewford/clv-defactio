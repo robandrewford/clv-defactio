{
 "cells": [
  {
   "cell_type": "code",
   "execution_count": 47,
   "metadata": {},
   "outputs": [
    {
     "ename": "NameError",
     "evalue": "name '__file__' is not defined",
     "output_type": "error",
     "traceback": [
      "\u001b[0;31m---------------------------------------------------------------------------\u001b[0m",
      "\u001b[0;31mNameError\u001b[0m                                 Traceback (most recent call last)",
      "Cell \u001b[0;32mIn[47], line 6\u001b[0m\n\u001b[1;32m      3\u001b[0m \u001b[38;5;28;01mfrom\u001b[39;00m \u001b[38;5;21;01mpathlib\u001b[39;00m \u001b[38;5;28;01mimport\u001b[39;00m Path\n\u001b[1;32m      5\u001b[0m \u001b[38;5;66;03m# Add project root to path using absolute path resolution\u001b[39;00m\n\u001b[0;32m----> 6\u001b[0m project_root \u001b[38;5;241m=\u001b[39m Path(\u001b[38;5;18;43m__file__\u001b[39;49m)\u001b[38;5;241m.\u001b[39mparent\u001b[38;5;241m.\u001b[39mparent\u001b[38;5;241m.\u001b[39mabsolute()\n\u001b[1;32m      7\u001b[0m sys\u001b[38;5;241m.\u001b[39mpath\u001b[38;5;241m.\u001b[39minsert(\u001b[38;5;241m0\u001b[39m, \u001b[38;5;28mstr\u001b[39m(project_root))\n\u001b[1;32m      9\u001b[0m \u001b[38;5;66;03m# Import the processor and config\u001b[39;00m\n",
      "\u001b[0;31mNameError\u001b[0m: name '__file__' is not defined"
     ]
    }
   ],
   "source": [
    "import sys\n",
    "import os\n",
    "from pathlib import Path\n",
    "\n",
    "# Add project root to path using absolute path resolution\n",
    "project_root = Path(__file__).parent.parent.absolute()\n",
    "sys.path.insert(0, str(project_root))\n",
    "\n",
    "# Import the processor and config\n",
    "from src.pipeline.CLVDataProcessor import CLVDataProcessor\n",
    "from src.config import get_data_processing_config\n",
    "\n",
    "# Get config and create processor instance\n",
    "config = get_data_processing_config()\n",
    "\n",
    "# Create processor instance\n",
    "processor = CLVDataProcessor(config=config)\n",
    "\n",
    "# Load and process data\n",
    "processor.load_data(csv_path='src/data/bquxjob_345b6120_19346c4bd93.csv')\n",
    "processor.process_data()"
   ]
  }
 ],
 "metadata": {
  "kernelspec": {
   "display_name": "venv",
   "language": "python",
   "name": "python3"
  },
  "language_info": {
   "codemirror_mode": {
    "name": "ipython",
    "version": 3
   },
   "file_extension": ".py",
   "mimetype": "text/x-python",
   "name": "python",
   "nbconvert_exporter": "python",
   "pygments_lexer": "ipython3",
   "version": "3.11.7"
  }
 },
 "nbformat": 4,
 "nbformat_minor": 2
}
